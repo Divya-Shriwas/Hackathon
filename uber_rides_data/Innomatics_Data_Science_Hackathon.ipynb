{
 "cells": [
  {
   "cell_type": "code",
   "execution_count": 1,
   "id": "4dc115ef",
   "metadata": {},
   "outputs": [],
   "source": [
    "import pandas as pd\n",
    "import numpy as np"
   ]
  },
  {
   "cell_type": "code",
   "execution_count": 168,
   "id": "d95cfcd5",
   "metadata": {},
   "outputs": [
    {
     "data": {
      "text/html": [
       "<div>\n",
       "<style scoped>\n",
       "    .dataframe tbody tr th:only-of-type {\n",
       "        vertical-align: middle;\n",
       "    }\n",
       "\n",
       "    .dataframe tbody tr th {\n",
       "        vertical-align: top;\n",
       "    }\n",
       "\n",
       "    .dataframe thead th {\n",
       "        text-align: right;\n",
       "    }\n",
       "</style>\n",
       "<table border=\"1\" class=\"dataframe\">\n",
       "  <thead>\n",
       "    <tr style=\"text-align: right;\">\n",
       "      <th></th>\n",
       "      <th>ride_id</th>\n",
       "      <th>fare_amount</th>\n",
       "      <th>pickup_datetime</th>\n",
       "      <th>pickup_longitude</th>\n",
       "      <th>pickup_latitude</th>\n",
       "      <th>dropoff_longitude</th>\n",
       "      <th>dropoff_latitude</th>\n",
       "      <th>passenger_count</th>\n",
       "    </tr>\n",
       "  </thead>\n",
       "  <tbody>\n",
       "    <tr>\n",
       "      <th>0</th>\n",
       "      <td>24238194</td>\n",
       "      <td>7.5</td>\n",
       "      <td>2015-05-07 19:52:06 UTC</td>\n",
       "      <td>-73.999817</td>\n",
       "      <td>40.738354</td>\n",
       "      <td>-73.999512</td>\n",
       "      <td>40.723217</td>\n",
       "      <td>1</td>\n",
       "    </tr>\n",
       "    <tr>\n",
       "      <th>1</th>\n",
       "      <td>27835199</td>\n",
       "      <td>7.7</td>\n",
       "      <td>2009-07-17 20:04:56 UTC</td>\n",
       "      <td>-73.994355</td>\n",
       "      <td>40.728225</td>\n",
       "      <td>-73.994710</td>\n",
       "      <td>40.750325</td>\n",
       "      <td>1</td>\n",
       "    </tr>\n",
       "    <tr>\n",
       "      <th>2</th>\n",
       "      <td>44984355</td>\n",
       "      <td>12.9</td>\n",
       "      <td>2009-08-24 21:45:00 UTC</td>\n",
       "      <td>-74.005043</td>\n",
       "      <td>40.740770</td>\n",
       "      <td>-73.962565</td>\n",
       "      <td>40.772647</td>\n",
       "      <td>1</td>\n",
       "    </tr>\n",
       "    <tr>\n",
       "      <th>3</th>\n",
       "      <td>25894730</td>\n",
       "      <td>5.3</td>\n",
       "      <td>2009-06-26 08:22:21 UTC</td>\n",
       "      <td>-73.976124</td>\n",
       "      <td>40.790844</td>\n",
       "      <td>-73.965316</td>\n",
       "      <td>40.803349</td>\n",
       "      <td>3</td>\n",
       "    </tr>\n",
       "    <tr>\n",
       "      <th>4</th>\n",
       "      <td>17610152</td>\n",
       "      <td>16.0</td>\n",
       "      <td>2014-08-28 17:47:00 UTC</td>\n",
       "      <td>-73.925023</td>\n",
       "      <td>40.744085</td>\n",
       "      <td>-73.973082</td>\n",
       "      <td>40.761247</td>\n",
       "      <td>5</td>\n",
       "    </tr>\n",
       "  </tbody>\n",
       "</table>\n",
       "</div>"
      ],
      "text/plain": [
       "    ride_id  fare_amount          pickup_datetime  pickup_longitude  \\\n",
       "0  24238194          7.5  2015-05-07 19:52:06 UTC        -73.999817   \n",
       "1  27835199          7.7  2009-07-17 20:04:56 UTC        -73.994355   \n",
       "2  44984355         12.9  2009-08-24 21:45:00 UTC        -74.005043   \n",
       "3  25894730          5.3  2009-06-26 08:22:21 UTC        -73.976124   \n",
       "4  17610152         16.0  2014-08-28 17:47:00 UTC        -73.925023   \n",
       "\n",
       "   pickup_latitude  dropoff_longitude  dropoff_latitude  passenger_count  \n",
       "0        40.738354         -73.999512         40.723217                1  \n",
       "1        40.728225         -73.994710         40.750325                1  \n",
       "2        40.740770         -73.962565         40.772647                1  \n",
       "3        40.790844         -73.965316         40.803349                3  \n",
       "4        40.744085         -73.973082         40.761247                5  "
      ]
     },
     "execution_count": 168,
     "metadata": {},
     "output_type": "execute_result"
    }
   ],
   "source": [
    "# load data set\n",
    "data = pd.read_csv(r\"D:\\Data\\uber_rides_data.xlsx - sample_train.csv\")\n",
    "data.head()"
   ]
  },
  {
   "cell_type": "code",
   "execution_count": 3,
   "id": "4b08790a",
   "metadata": {},
   "outputs": [
    {
     "data": {
      "text/plain": [
       "(200000, 8)"
      ]
     },
     "execution_count": 3,
     "metadata": {},
     "output_type": "execute_result"
    }
   ],
   "source": [
    "# What is the shape of given dataset?\n",
    "data.shape"
   ]
  },
  {
   "cell_type": "code",
   "execution_count": 4,
   "id": "00b20ea5",
   "metadata": {},
   "outputs": [
    {
     "name": "stdout",
     "output_type": "stream",
     "text": [
      "<class 'pandas.core.frame.DataFrame'>\n",
      "RangeIndex: 200000 entries, 0 to 199999\n",
      "Data columns (total 8 columns):\n",
      " #   Column             Non-Null Count   Dtype  \n",
      "---  ------             --------------   -----  \n",
      " 0   ride_id            200000 non-null  int64  \n",
      " 1   fare_amount        200000 non-null  float64\n",
      " 2   pickup_datetime    200000 non-null  object \n",
      " 3   pickup_longitude   200000 non-null  float64\n",
      " 4   pickup_latitude    200000 non-null  float64\n",
      " 5   dropoff_longitude  199999 non-null  float64\n",
      " 6   dropoff_latitude   199999 non-null  float64\n",
      " 7   passenger_count    200000 non-null  int64  \n",
      "dtypes: float64(5), int64(2), object(1)\n",
      "memory usage: 12.2+ MB\n"
     ]
    }
   ],
   "source": [
    "# How many integer columns(by default) are given in the dataset?\n",
    "data.info()\n",
    "#ride_id,passenger_count are integer columns"
   ]
  },
  {
   "cell_type": "code",
   "execution_count": 5,
   "id": "11155b89",
   "metadata": {},
   "outputs": [
    {
     "data": {
      "text/plain": [
       "ride_id              0\n",
       "fare_amount          0\n",
       "pickup_datetime      0\n",
       "pickup_longitude     0\n",
       "pickup_latitude      0\n",
       "dropoff_longitude    1\n",
       "dropoff_latitude     1\n",
       "passenger_count      0\n",
       "dtype: int64"
      ]
     },
     "execution_count": 5,
     "metadata": {},
     "output_type": "execute_result"
    }
   ],
   "source": [
    "# How many missing values exists in 'dropoff_longitude' column?\n",
    "data.isnull().sum()"
   ]
  },
  {
   "cell_type": "code",
   "execution_count": 134,
   "id": "ce19d022",
   "metadata": {},
   "outputs": [
    {
     "data": {
      "text/plain": [
       "dtype('O')"
      ]
     },
     "execution_count": 134,
     "metadata": {},
     "output_type": "execute_result"
    }
   ],
   "source": [
    "# What is the data type of ' pickup_datetime' feature in your data?\n",
    "data.pickup_datetime.dtype \n",
    "# object"
   ]
  },
  {
   "cell_type": "code",
   "execution_count": 169,
   "id": "9f35eb37",
   "metadata": {},
   "outputs": [],
   "source": [
    "# Which of the following is the correct syntax to convert 'pickup_datetime' to datetime datatype?\n",
    "data['pickup_datetime'] = pd.to_datetime(data['pickup_datetime'])"
   ]
  },
  {
   "cell_type": "code",
   "execution_count": 170,
   "id": "e3f2c079",
   "metadata": {},
   "outputs": [
    {
     "data": {
      "text/plain": [
       "datetime64[ns, UTC]"
      ]
     },
     "execution_count": 170,
     "metadata": {},
     "output_type": "execute_result"
    }
   ],
   "source": [
    "data.pickup_datetime.dtype "
   ]
  },
  {
   "cell_type": "code",
   "execution_count": 21,
   "id": "f9720143",
   "metadata": {},
   "outputs": [
    {
     "name": "stderr",
     "output_type": "stream",
     "text": [
      "C:\\Users\\ASUS\\AppData\\Local\\Temp\\ipykernel_1856\\3756586291.py:1: FutureWarning: Using .astype to convert from timezone-aware dtype to timezone-naive dtype is deprecated and will raise in a future version.  Use obj.tz_localize(None) or obj.tz_convert('UTC').tz_localize(None) instead\n",
      "  data['pickup_datetime'].astype('datetime64[ns]')\n"
     ]
    },
    {
     "data": {
      "text/plain": [
       "0        2015-05-07 19:52:06\n",
       "1        2009-07-17 20:04:56\n",
       "2        2009-08-24 21:45:00\n",
       "3        2009-06-26 08:22:21\n",
       "4        2014-08-28 17:47:00\n",
       "                 ...        \n",
       "199995   2012-10-28 10:49:00\n",
       "199996   2014-03-14 01:09:00\n",
       "199997   2009-06-29 00:42:00\n",
       "199998   2015-05-20 14:56:25\n",
       "199999   2010-05-15 04:08:00\n",
       "Name: pickup_datetime, Length: 200000, dtype: datetime64[ns]"
      ]
     },
     "execution_count": 21,
     "metadata": {},
     "output_type": "execute_result"
    }
   ],
   "source": [
    "data['pickup_datetime'].astype('datetime64[ns]')"
   ]
  },
  {
   "cell_type": "code",
   "execution_count": 171,
   "id": "a7d6415c",
   "metadata": {},
   "outputs": [],
   "source": [
    "# Which function can be used to remove null values from the dataframe?\n",
    "data=data.dropna()"
   ]
  },
  {
   "cell_type": "code",
   "execution_count": 172,
   "id": "b07f2faf",
   "metadata": {},
   "outputs": [
    {
     "data": {
      "text/plain": [
       "ride_id              0\n",
       "fare_amount          0\n",
       "pickup_datetime      0\n",
       "pickup_longitude     0\n",
       "pickup_latitude      0\n",
       "dropoff_longitude    0\n",
       "dropoff_latitude     0\n",
       "passenger_count      0\n",
       "dtype: int64"
      ]
     },
     "execution_count": 172,
     "metadata": {},
     "output_type": "execute_result"
    }
   ],
   "source": [
    "data.isnull().sum()"
   ]
  },
  {
   "cell_type": "code",
   "execution_count": 164,
   "id": "217c605d",
   "metadata": {},
   "outputs": [
    {
     "data": {
      "text/plain": [
       "(199999, 13)"
      ]
     },
     "execution_count": 164,
     "metadata": {},
     "output_type": "execute_result"
    }
   ],
   "source": [
    "data.shape"
   ]
  },
  {
   "cell_type": "code",
   "execution_count": 27,
   "id": "e7e92423",
   "metadata": {},
   "outputs": [
    {
     "data": {
      "text/plain": [
       "11.359891549457748"
      ]
     },
     "execution_count": 27,
     "metadata": {},
     "output_type": "execute_result"
    }
   ],
   "source": [
    "# What is the average fare amount?\n",
    "#Remove the null values from the dataframe to answer the following question\n",
    "data.fare_amount.sum()/data.fare_amount.count()"
   ]
  },
  {
   "cell_type": "markdown",
   "id": "827edc25",
   "metadata": {},
   "source": [
    "```\n",
    "Calculate distance between each pickup and dropoff points using Haversine formula. \n",
    "What is the median haversine distance between pickup and dropoff location according to the given dataset?\n",
    "```\n",
    "Read about Haversine Distance here: https://en.wikipedia.org/wiki/Haversine_formula"
   ]
  },
  {
   "cell_type": "code",
   "execution_count": 173,
   "id": "eec1cb63",
   "metadata": {},
   "outputs": [],
   "source": [
    "def haversine(lat1, lon1, lat2, lon2):\n",
    "    lat1, lon1, lat2, lon2 = np.radians([lat1, lon1, lat2, lon2])\n",
    "\n",
    "    d_lon = lon2 - lon1\n",
    "    d_lat = lat2 - lat1\n",
    "    a = np.sin(d_lat / 2)**2 + np.cos(lat1) * np.cos(lat2) * np.sin(d_lon / 2)**2\n",
    "    c = 2 * np.arcsin(np.sqrt(a))\n",
    "    \n",
    "    # Radius of Earth in kilometers\n",
    "    r = 6371.0\n",
    "    \n",
    "    distance = r * c\n",
    "    return distance"
   ]
  },
  {
   "cell_type": "code",
   "execution_count": 44,
   "id": "bfe10320",
   "metadata": {},
   "outputs": [
    {
     "data": {
      "text/plain": [
       "Index(['ride_id', 'fare_amount', 'pickup_datetime', 'pickup_longitude',\n",
       "       'pickup_latitude', 'dropoff_longitude', 'dropoff_latitude',\n",
       "       'passenger_count'],\n",
       "      dtype='object')"
      ]
     },
     "execution_count": 44,
     "metadata": {},
     "output_type": "execute_result"
    }
   ],
   "source": [
    "data.columns"
   ]
  },
  {
   "cell_type": "code",
   "execution_count": 174,
   "id": "7c68282d",
   "metadata": {},
   "outputs": [],
   "source": [
    "haversine_distances = haversine(data.pickup_latitude,data.pickup_longitude,data.dropoff_latitude,data.dropoff_longitude)"
   ]
  },
  {
   "cell_type": "code",
   "execution_count": 175,
   "id": "799e604a",
   "metadata": {},
   "outputs": [],
   "source": [
    "data['haversine_distances'] = haversine_distances"
   ]
  },
  {
   "cell_type": "code",
   "execution_count": 47,
   "id": "a51ea4cc",
   "metadata": {},
   "outputs": [
    {
     "data": {
      "text/plain": [
       "2.1209923961833708"
      ]
     },
     "execution_count": 47,
     "metadata": {},
     "output_type": "execute_result"
    }
   ],
   "source": [
    "np.median(haversine_distances)"
   ]
  },
  {
   "cell_type": "code",
   "execution_count": 50,
   "id": "b2f4a1c7",
   "metadata": {},
   "outputs": [
    {
     "data": {
      "text/plain": [
       "16409.24"
      ]
     },
     "execution_count": 50,
     "metadata": {},
     "output_type": "execute_result"
    }
   ],
   "source": [
    "# What is the maximum haversine distance between pickup and dropoff location according to the given dataset?\n",
    "round(np.max(haversine_distances),2)"
   ]
  },
  {
   "cell_type": "code",
   "execution_count": 56,
   "id": "104c09a0",
   "metadata": {},
   "outputs": [
    {
     "data": {
      "text/plain": [
       "5632"
      ]
     },
     "execution_count": 56,
     "metadata": {},
     "output_type": "execute_result"
    }
   ],
   "source": [
    "# How many rides have 0.0 haversine distance between pickup and dropoff location according to the given dataset?\n",
    "(haversine_distances == 0.0).sum()"
   ]
  },
  {
   "cell_type": "code",
   "execution_count": 155,
   "id": "64ef5439",
   "metadata": {},
   "outputs": [
    {
     "data": {
      "text/plain": [
       "11.59"
      ]
     },
     "execution_count": 155,
     "metadata": {},
     "output_type": "execute_result"
    }
   ],
   "source": [
    "# What is the mean 'fare_amount' for rides with 0 haversine distance?\n",
    "# Do you sense something fishy? Try to analyze, and give your expert opinion in Jupyter Notebook.\n",
    "\n",
    "\n",
    "zero_distance_rides = data[data['haversine_distances'] == 0.0]\n",
    "\n",
    "round(zero_distance_rides['fare_amount'].mean(),2)\n"
   ]
  },
  {
   "cell_type": "code",
   "execution_count": 62,
   "id": "a85274c4",
   "metadata": {},
   "outputs": [
    {
     "data": {
      "text/plain": [
       "499.0"
      ]
     },
     "execution_count": 62,
     "metadata": {},
     "output_type": "execute_result"
    }
   ],
   "source": [
    "# What is the maximum 'fare_amount' for a ride?\n",
    "data['fare_amount'].max()"
   ]
  },
  {
   "cell_type": "code",
   "execution_count": 91,
   "id": "073b30f3",
   "metadata": {},
   "outputs": [
    {
     "data": {
      "text/plain": [
       "0.0007899213191009994"
      ]
     },
     "execution_count": 91,
     "metadata": {},
     "output_type": "execute_result"
    }
   ],
   "source": [
    "# What is the haversine distance between pickup and dropoff location for the costliest ride?\n",
    "#Do you sense something fishy? Try to analyze, and give your expert opinion in Jupyter Notebook.\n",
    "\n",
    "costliest_ride = data.sort_values(by='fare_amount', ascending=False).iloc[0]\n",
    "\n",
    "# Retrieve the coordinates\n",
    "pickup_lat = costliest_ride['pickup_latitude']\n",
    "pickup_lon = costliest_ride['pickup_longitude']\n",
    "dropoff_lat = costliest_ride['dropoff_latitude']\n",
    "dropoff_lon = costliest_ride['dropoff_longitude']\n",
    "\n",
    "# Calculate the Haversine distance\n",
    "haversine(pickup_lat, pickup_lon, dropoff_lat, dropoff_lon)"
   ]
  },
  {
   "cell_type": "code",
   "execution_count": 71,
   "id": "2ce45351",
   "metadata": {},
   "outputs": [
    {
     "data": {
      "text/plain": [
       "29968"
      ]
     },
     "execution_count": 71,
     "metadata": {},
     "output_type": "execute_result"
    }
   ],
   "source": [
    "# How many rides were recorded in the year 2014?\n",
    "data['pickup_year'] = data['pickup_datetime'].dt.year\n",
    "len(data[data['pickup_year'] == 2014])"
   ]
  },
  {
   "cell_type": "code",
   "execution_count": 73,
   "id": "548a132a",
   "metadata": {},
   "outputs": [
    {
     "data": {
      "text/plain": [
       "7687"
      ]
     },
     "execution_count": 73,
     "metadata": {},
     "output_type": "execute_result"
    }
   ],
   "source": [
    "# How many rides were recorded in the first quarter of 2014?\n",
    "\n",
    "data['pickup_year'] = data['pickup_datetime'].dt.year\n",
    "data['pickup_quarter'] = data['pickup_datetime'].dt.quarter\n",
    "\n",
    "len(data[(data['pickup_year'] == 2014) & (data['pickup_quarter'] == 1)])"
   ]
  },
  {
   "cell_type": "code",
   "execution_count": 136,
   "id": "2bcfdb74",
   "metadata": {},
   "outputs": [
    {
     "data": {
      "text/plain": [
       "day_of_week\n",
       "Friday       354\n",
       "Monday       265\n",
       "Saturday     362\n",
       "Sunday       331\n",
       "Thursday     457\n",
       "Tuesday      322\n",
       "Wednesday    391\n",
       "Name: day_of_week, dtype: int64"
      ]
     },
     "execution_count": 136,
     "metadata": {},
     "output_type": "execute_result"
    }
   ],
   "source": [
    "# On which day of the week in September 2010, maximum rides were recorded \n",
    "data['day_of_week'] = data['pickup_datetime'].dt.day_name()\n",
    "data['month'] = data['pickup_datetime'].dt.month\n",
    "data['year'] = data['pickup_datetime'].dt.year\n",
    "september = data[(data['month'] == 9) & (data['year'] == 2010)]\n",
    "september.groupby('day_of_week')['day_of_week'].count()"
   ]
  },
  {
   "cell_type": "code",
   "execution_count": 176,
   "id": "821bed7f",
   "metadata": {},
   "outputs": [
    {
     "data": {
      "text/plain": [
       "0         3\n",
       "1         4\n",
       "2         0\n",
       "3         4\n",
       "4         3\n",
       "         ..\n",
       "199995    6\n",
       "199996    4\n",
       "199997    0\n",
       "199998    2\n",
       "199999    5\n",
       "Name: ride_week_day, Length: 199999, dtype: int64"
      ]
     },
     "execution_count": 176,
     "metadata": {},
     "output_type": "execute_result"
    }
   ],
   "source": [
    "data['ride_week_day'] = data['pickup_datetime'].dt.dayofweek\n",
    "data['ride_week_day'] "
   ]
  },
  {
   "cell_type": "markdown",
   "id": "55feb689",
   "metadata": {},
   "source": [
    "```\n",
    "Apply a Machine Learning Algorithm to predict the fare amount given following input features:\n",
    "passenger_count, distance and ride_week_day.\n",
    "\n",
    "Perform a 70-30 split of data.\n",
    "\n",
    "Which algorithm gives the least adjusted R square value?\n",
    "```"
   ]
  },
  {
   "cell_type": "code",
   "execution_count": 177,
   "id": "4ea041b1",
   "metadata": {},
   "outputs": [
    {
     "data": {
      "text/plain": [
       "Index(['ride_id', 'fare_amount', 'pickup_datetime', 'pickup_longitude',\n",
       "       'pickup_latitude', 'dropoff_longitude', 'dropoff_latitude',\n",
       "       'passenger_count', 'haversine_distances', 'ride_week_day'],\n",
       "      dtype='object')"
      ]
     },
     "execution_count": 177,
     "metadata": {},
     "output_type": "execute_result"
    }
   ],
   "source": [
    "data.columns"
   ]
  },
  {
   "cell_type": "code",
   "execution_count": 180,
   "id": "7b5b45c6",
   "metadata": {
    "scrolled": true
   },
   "outputs": [],
   "source": [
    "# Identifying the inputs (X) and output (y)\n",
    "X = data[['passenger_count', 'haversine_distances', 'ride_week_day']]\n",
    "y = data['fare_amount']"
   ]
  },
  {
   "cell_type": "code",
   "execution_count": 187,
   "id": "505dbe41",
   "metadata": {},
   "outputs": [],
   "source": [
    "# split into train and test\n",
    "\n",
    "from sklearn.model_selection import train_test_split\n",
    "\n",
    "X_train, X_test, y_train, y_test = train_test_split(X, y, train_size=0.70, random_state=100)"
   ]
  },
  {
   "cell_type": "code",
   "execution_count": 188,
   "id": "785d658c",
   "metadata": {},
   "outputs": [
    {
     "data": {
      "text/plain": [
       "passenger_count          int64\n",
       "haversine_distances    float64\n",
       "ride_week_day            int64\n",
       "dtype: object"
      ]
     },
     "execution_count": 188,
     "metadata": {},
     "output_type": "execute_result"
    }
   ],
   "source": [
    "X_train.dtypes"
   ]
  },
  {
   "cell_type": "code",
   "execution_count": 191,
   "id": "b4795137",
   "metadata": {},
   "outputs": [
    {
     "data": {
      "text/html": [
       "<div>\n",
       "<style scoped>\n",
       "    .dataframe tbody tr th:only-of-type {\n",
       "        vertical-align: middle;\n",
       "    }\n",
       "\n",
       "    .dataframe tbody tr th {\n",
       "        vertical-align: top;\n",
       "    }\n",
       "\n",
       "    .dataframe thead th {\n",
       "        text-align: right;\n",
       "    }\n",
       "</style>\n",
       "<table border=\"1\" class=\"dataframe\">\n",
       "  <thead>\n",
       "    <tr style=\"text-align: right;\">\n",
       "      <th></th>\n",
       "      <th>passenger_count</th>\n",
       "      <th>haversine_distances</th>\n",
       "      <th>ride_week_day</th>\n",
       "    </tr>\n",
       "  </thead>\n",
       "  <tbody>\n",
       "    <tr>\n",
       "      <th>195896</th>\n",
       "      <td>1.008439</td>\n",
       "      <td>-0.049696</td>\n",
       "      <td>1.001584</td>\n",
       "    </tr>\n",
       "    <tr>\n",
       "      <th>47114</th>\n",
       "      <td>0.242972</td>\n",
       "      <td>-0.044699</td>\n",
       "      <td>-1.053422</td>\n",
       "    </tr>\n",
       "    <tr>\n",
       "      <th>144876</th>\n",
       "      <td>0.242972</td>\n",
       "      <td>-0.051539</td>\n",
       "      <td>-0.025919</td>\n",
       "    </tr>\n",
       "    <tr>\n",
       "      <th>184791</th>\n",
       "      <td>0.242972</td>\n",
       "      <td>-0.052902</td>\n",
       "      <td>1.515335</td>\n",
       "    </tr>\n",
       "    <tr>\n",
       "      <th>123270</th>\n",
       "      <td>-0.522495</td>\n",
       "      <td>-0.052840</td>\n",
       "      <td>-1.053422</td>\n",
       "    </tr>\n",
       "  </tbody>\n",
       "</table>\n",
       "</div>"
      ],
      "text/plain": [
       "        passenger_count  haversine_distances  ride_week_day\n",
       "195896         1.008439            -0.049696       1.001584\n",
       "47114          0.242972            -0.044699      -1.053422\n",
       "144876         0.242972            -0.051539      -0.025919\n",
       "184791         0.242972            -0.052902       1.515335\n",
       "123270        -0.522495            -0.052840      -1.053422"
      ]
     },
     "execution_count": 191,
     "metadata": {},
     "output_type": "execute_result"
    }
   ],
   "source": [
    "# scaling the numerical features\n",
    "from sklearn.preprocessing import StandardScaler\n",
    "\n",
    "scaler = StandardScaler()\n",
    "\n",
    "# column names are (annoyingly) lost after Scaling\n",
    "# (i.e. the dataframe is converted to a numpy ndarray)\n",
    "\n",
    "X_train_transformed = pd.DataFrame(scaler.fit_transform(X_train), \n",
    "                                    columns = X_train.columns, \n",
    "                                    index = X_train.index)\n",
    "X_train_transformed.head()"
   ]
  },
  {
   "cell_type": "code",
   "execution_count": 196,
   "id": "9ad14e20",
   "metadata": {},
   "outputs": [
    {
     "data": {
      "text/html": [
       "<div>\n",
       "<style scoped>\n",
       "    .dataframe tbody tr th:only-of-type {\n",
       "        vertical-align: middle;\n",
       "    }\n",
       "\n",
       "    .dataframe tbody tr th {\n",
       "        vertical-align: top;\n",
       "    }\n",
       "\n",
       "    .dataframe thead th {\n",
       "        text-align: right;\n",
       "    }\n",
       "</style>\n",
       "<table border=\"1\" class=\"dataframe\">\n",
       "  <thead>\n",
       "    <tr style=\"text-align: right;\">\n",
       "      <th></th>\n",
       "      <th>passenger_count</th>\n",
       "      <th>haversine_distances</th>\n",
       "      <th>ride_week_day</th>\n",
       "    </tr>\n",
       "  </thead>\n",
       "  <tbody>\n",
       "    <tr>\n",
       "      <th>180481</th>\n",
       "      <td>-0.522495</td>\n",
       "      <td>-0.052349</td>\n",
       "      <td>1.515335</td>\n",
       "    </tr>\n",
       "    <tr>\n",
       "      <th>8971</th>\n",
       "      <td>-0.522495</td>\n",
       "      <td>-0.048410</td>\n",
       "      <td>1.515335</td>\n",
       "    </tr>\n",
       "    <tr>\n",
       "      <th>77027</th>\n",
       "      <td>2.539373</td>\n",
       "      <td>-0.045392</td>\n",
       "      <td>1.001584</td>\n",
       "    </tr>\n",
       "    <tr>\n",
       "      <th>21656</th>\n",
       "      <td>1.008439</td>\n",
       "      <td>-0.043991</td>\n",
       "      <td>-0.025919</td>\n",
       "    </tr>\n",
       "    <tr>\n",
       "      <th>58303</th>\n",
       "      <td>-0.522495</td>\n",
       "      <td>-0.046622</td>\n",
       "      <td>-1.053422</td>\n",
       "    </tr>\n",
       "  </tbody>\n",
       "</table>\n",
       "</div>"
      ],
      "text/plain": [
       "        passenger_count  haversine_distances  ride_week_day\n",
       "180481        -0.522495            -0.052349       1.515335\n",
       "8971          -0.522495            -0.048410       1.515335\n",
       "77027          2.539373            -0.045392       1.001584\n",
       "21656          1.008439            -0.043991      -0.025919\n",
       "58303         -0.522495            -0.046622      -1.053422"
      ]
     },
     "execution_count": 196,
     "metadata": {},
     "output_type": "execute_result"
    }
   ],
   "source": [
    "X_test_transformed = pd.DataFrame(scaler.transform(X_test), \n",
    "                                   columns = X_test.columns, \n",
    "                                   index = X_test.index)\n",
    "X_test_transformed.head()"
   ]
  },
  {
   "cell_type": "markdown",
   "id": "0deaeb54",
   "metadata": {},
   "source": [
    "# Decision Tree Regression"
   ]
  },
  {
   "cell_type": "code",
   "execution_count": 215,
   "id": "763b9f13",
   "metadata": {},
   "outputs": [],
   "source": [
    "from sklearn.tree import DecisionTreeRegressor\n",
    "regressor = DecisionTreeRegressor()\n",
    "regressor.fit(X_train_transformed, y_train)\n",
    "y_train_pred = regressor.predict(X_train_transformed)\n",
    "y_test_pred = regressor.predict(X_test_transformed)"
   ]
  },
  {
   "cell_type": "code",
   "execution_count": 216,
   "id": "a81e2578",
   "metadata": {},
   "outputs": [],
   "source": [
    "# Adjusted R^2\n",
    "def Adjusted_r2(y_train,y_train_pred,X_train_transform):\n",
    "    from sklearn import metrics\n",
    "    r2 = metrics.r2_score(y_train, y_train_pred)\n",
    "    n = len(y_train)\n",
    "    k = X_train_transform.shape[1]\n",
    "\n",
    "    r2_adj = 1 - (1-r2)*(n-1)/(n-k-1)\n",
    "    return r2_adj"
   ]
  },
  {
   "cell_type": "code",
   "execution_count": 217,
   "id": "dc952b61",
   "metadata": {},
   "outputs": [
    {
     "name": "stdout",
     "output_type": "stream",
     "text": [
      "Train Score: 93.93946090952012\n",
      "Test Score: 50.62908910319134\n"
     ]
    }
   ],
   "source": [
    "DT_tr_score = Adjusted_r2(y_train,y_train_pred,X_train_transformed)\n",
    "print(\"Train Score:\",DT_tr_score*100)\n",
    "\n",
    "DT_te_score = Adjusted_r2(y_test,y_test_pred,X_test_transformed)\n",
    "print(\"Test Score:\",DT_te_score*100)"
   ]
  },
  {
   "cell_type": "markdown",
   "id": "8d8cbf39",
   "metadata": {},
   "source": [
    "# Random Forest Regression"
   ]
  },
  {
   "cell_type": "code",
   "execution_count": 218,
   "id": "a9400123",
   "metadata": {},
   "outputs": [
    {
     "name": "stdout",
     "output_type": "stream",
     "text": [
      "Train Score: 90.59216910741964\n",
      "Test Score: 64.35041459365883\n"
     ]
    }
   ],
   "source": [
    "from sklearn.ensemble import RandomForestRegressor\n",
    "regressor = RandomForestRegressor()\n",
    "regressor.fit(X_train_transformed, y_train)\n",
    "y_train_pred = regressor.predict(X_train_transformed)\n",
    "y_test_pred = regressor.predict(X_test_transformed)\n",
    "\n",
    "RF_tr_score = Adjusted_r2(y_train,y_train_pred,X_train_transformed)\n",
    "print(\"Train Score:\",RF_tr_score*100)\n",
    "\n",
    "RF_te_score = Adjusted_r2(y_test,y_test_pred,X_test_transformed)\n",
    "print(\"Test Score:\",RF_te_score*100)"
   ]
  },
  {
   "cell_type": "code",
   "execution_count": 219,
   "id": "8821fb00",
   "metadata": {},
   "outputs": [
    {
     "name": "stdout",
     "output_type": "stream",
     "text": [
      "Fitting 5 folds for each of 9 candidates, totalling 45 fits\n"
     ]
    },
    {
     "data": {
      "text/html": [
       "<style>#sk-container-id-3 {color: black;background-color: white;}#sk-container-id-3 pre{padding: 0;}#sk-container-id-3 div.sk-toggleable {background-color: white;}#sk-container-id-3 label.sk-toggleable__label {cursor: pointer;display: block;width: 100%;margin-bottom: 0;padding: 0.3em;box-sizing: border-box;text-align: center;}#sk-container-id-3 label.sk-toggleable__label-arrow:before {content: \"▸\";float: left;margin-right: 0.25em;color: #696969;}#sk-container-id-3 label.sk-toggleable__label-arrow:hover:before {color: black;}#sk-container-id-3 div.sk-estimator:hover label.sk-toggleable__label-arrow:before {color: black;}#sk-container-id-3 div.sk-toggleable__content {max-height: 0;max-width: 0;overflow: hidden;text-align: left;background-color: #f0f8ff;}#sk-container-id-3 div.sk-toggleable__content pre {margin: 0.2em;color: black;border-radius: 0.25em;background-color: #f0f8ff;}#sk-container-id-3 input.sk-toggleable__control:checked~div.sk-toggleable__content {max-height: 200px;max-width: 100%;overflow: auto;}#sk-container-id-3 input.sk-toggleable__control:checked~label.sk-toggleable__label-arrow:before {content: \"▾\";}#sk-container-id-3 div.sk-estimator input.sk-toggleable__control:checked~label.sk-toggleable__label {background-color: #d4ebff;}#sk-container-id-3 div.sk-label input.sk-toggleable__control:checked~label.sk-toggleable__label {background-color: #d4ebff;}#sk-container-id-3 input.sk-hidden--visually {border: 0;clip: rect(1px 1px 1px 1px);clip: rect(1px, 1px, 1px, 1px);height: 1px;margin: -1px;overflow: hidden;padding: 0;position: absolute;width: 1px;}#sk-container-id-3 div.sk-estimator {font-family: monospace;background-color: #f0f8ff;border: 1px dotted black;border-radius: 0.25em;box-sizing: border-box;margin-bottom: 0.5em;}#sk-container-id-3 div.sk-estimator:hover {background-color: #d4ebff;}#sk-container-id-3 div.sk-parallel-item::after {content: \"\";width: 100%;border-bottom: 1px solid gray;flex-grow: 1;}#sk-container-id-3 div.sk-label:hover label.sk-toggleable__label {background-color: #d4ebff;}#sk-container-id-3 div.sk-serial::before {content: \"\";position: absolute;border-left: 1px solid gray;box-sizing: border-box;top: 0;bottom: 0;left: 50%;z-index: 0;}#sk-container-id-3 div.sk-serial {display: flex;flex-direction: column;align-items: center;background-color: white;padding-right: 0.2em;padding-left: 0.2em;position: relative;}#sk-container-id-3 div.sk-item {position: relative;z-index: 1;}#sk-container-id-3 div.sk-parallel {display: flex;align-items: stretch;justify-content: center;background-color: white;position: relative;}#sk-container-id-3 div.sk-item::before, #sk-container-id-3 div.sk-parallel-item::before {content: \"\";position: absolute;border-left: 1px solid gray;box-sizing: border-box;top: 0;bottom: 0;left: 50%;z-index: -1;}#sk-container-id-3 div.sk-parallel-item {display: flex;flex-direction: column;z-index: 1;position: relative;background-color: white;}#sk-container-id-3 div.sk-parallel-item:first-child::after {align-self: flex-end;width: 50%;}#sk-container-id-3 div.sk-parallel-item:last-child::after {align-self: flex-start;width: 50%;}#sk-container-id-3 div.sk-parallel-item:only-child::after {width: 0;}#sk-container-id-3 div.sk-dashed-wrapped {border: 1px dashed gray;margin: 0 0.4em 0.5em 0.4em;box-sizing: border-box;padding-bottom: 0.4em;background-color: white;}#sk-container-id-3 div.sk-label label {font-family: monospace;font-weight: bold;display: inline-block;line-height: 1.2em;}#sk-container-id-3 div.sk-label-container {text-align: center;}#sk-container-id-3 div.sk-container {/* jupyter's `normalize.less` sets `[hidden] { display: none; }` but bootstrap.min.css set `[hidden] { display: none !important; }` so we also need the `!important` here to be able to override the default hidden behavior on the sphinx rendered scikit-learn.org. See: https://github.com/scikit-learn/scikit-learn/issues/21755 */display: inline-block !important;position: relative;}#sk-container-id-3 div.sk-text-repr-fallback {display: none;}</style><div id=\"sk-container-id-3\" class=\"sk-top-container\"><div class=\"sk-text-repr-fallback\"><pre>GridSearchCV(cv=5, estimator=RandomForestRegressor(),\n",
       "             param_grid=[{&#x27;max_depth&#x27;: [1, 2, 3, 4, 5, 6, 7, 8, 9]}],\n",
       "             return_train_score=True, scoring=&#x27;r2&#x27;, verbose=1)</pre><b>In a Jupyter environment, please rerun this cell to show the HTML representation or trust the notebook. <br />On GitHub, the HTML representation is unable to render, please try loading this page with nbviewer.org.</b></div><div class=\"sk-container\" hidden><div class=\"sk-item sk-dashed-wrapped\"><div class=\"sk-label-container\"><div class=\"sk-label sk-toggleable\"><input class=\"sk-toggleable__control sk-hidden--visually\" id=\"sk-estimator-id-5\" type=\"checkbox\" ><label for=\"sk-estimator-id-5\" class=\"sk-toggleable__label sk-toggleable__label-arrow\">GridSearchCV</label><div class=\"sk-toggleable__content\"><pre>GridSearchCV(cv=5, estimator=RandomForestRegressor(),\n",
       "             param_grid=[{&#x27;max_depth&#x27;: [1, 2, 3, 4, 5, 6, 7, 8, 9]}],\n",
       "             return_train_score=True, scoring=&#x27;r2&#x27;, verbose=1)</pre></div></div></div><div class=\"sk-parallel\"><div class=\"sk-parallel-item\"><div class=\"sk-item\"><div class=\"sk-label-container\"><div class=\"sk-label sk-toggleable\"><input class=\"sk-toggleable__control sk-hidden--visually\" id=\"sk-estimator-id-6\" type=\"checkbox\" ><label for=\"sk-estimator-id-6\" class=\"sk-toggleable__label sk-toggleable__label-arrow\">estimator: RandomForestRegressor</label><div class=\"sk-toggleable__content\"><pre>RandomForestRegressor()</pre></div></div></div><div class=\"sk-serial\"><div class=\"sk-item\"><div class=\"sk-estimator sk-toggleable\"><input class=\"sk-toggleable__control sk-hidden--visually\" id=\"sk-estimator-id-7\" type=\"checkbox\" ><label for=\"sk-estimator-id-7\" class=\"sk-toggleable__label sk-toggleable__label-arrow\">RandomForestRegressor</label><div class=\"sk-toggleable__content\"><pre>RandomForestRegressor()</pre></div></div></div></div></div></div></div></div></div></div>"
      ],
      "text/plain": [
       "GridSearchCV(cv=5, estimator=RandomForestRegressor(),\n",
       "             param_grid=[{'max_depth': [1, 2, 3, 4, 5, 6, 7, 8, 9]}],\n",
       "             return_train_score=True, scoring='r2', verbose=1)"
      ]
     },
     "execution_count": 219,
     "metadata": {},
     "output_type": "execute_result"
    }
   ],
   "source": [
    "from sklearn.model_selection import GridSearchCV, RandomizedSearchCV\n",
    "\n",
    "tuned_parameters = [{'max_depth' : [1,2,3,4,5,6,7,8,9]}]\n",
    "\n",
    "regressor_RF = GridSearchCV(\n",
    "    estimator=RandomForestRegressor(),\n",
    "    param_grid=tuned_parameters, \n",
    "    scoring='r2',\n",
    "    cv=5,\n",
    "    return_train_score=True,\n",
    "    verbose=1\n",
    ")\n",
    "regressor_RF.fit(X_train_transformed, y_train)"
   ]
  },
  {
   "cell_type": "code",
   "execution_count": 220,
   "id": "da4add3a",
   "metadata": {},
   "outputs": [
    {
     "name": "stdout",
     "output_type": "stream",
     "text": [
      "Best parameters set found on train set\n",
      "{'max_depth': 7}\n",
      "RandomForestRegressor(max_depth=7)\n",
      "\n",
      "Score on Test Data:  69.68068676525618\n"
     ]
    }
   ],
   "source": [
    "print(\"Best parameters set found on train set\")\n",
    "print(regressor_RF.best_params_)\n",
    "print(regressor_RF.best_estimator_)\n",
    "print()\n",
    "RF_Test_Score =  regressor_RF.score(X_test_transformed, y_test)*100\n",
    "print('Score on Test Data: ',RF_Test_Score)"
   ]
  },
  {
   "cell_type": "markdown",
   "id": "71cf595b",
   "metadata": {},
   "source": [
    "# Linear regression"
   ]
  },
  {
   "cell_type": "code",
   "execution_count": 223,
   "id": "827aec43",
   "metadata": {},
   "outputs": [
    {
     "name": "stdout",
     "output_type": "stream",
     "text": [
      "Train Score: 0.08022069160746881\n",
      "Test Score: 0.05416156910665881\n"
     ]
    }
   ],
   "source": [
    "from sklearn.linear_model import LinearRegression\n",
    "regressor = LinearRegression()\n",
    "regressor.fit(X_train_transformed, y_train)\n",
    "y_train_pred = regressor.predict(X_train_transformed)\n",
    "y_test_pred = regressor.predict(X_test_transformed)\n",
    "\n",
    "\n",
    "LR_tr_score = Adjusted_r2(y_train,y_train_pred,X_train_transformed)\n",
    "print(\"Train Score:\",LR_tr_score*100)\n",
    "\n",
    "LR_te_score = Adjusted_r2(y_test,y_test_pred,X_test_transformed)\n",
    "print(\"Test Score:\",LR_te_score*100)"
   ]
  },
  {
   "cell_type": "markdown",
   "id": "fb67c126",
   "metadata": {},
   "source": [
    "# Conclusion\n",
    "**Random Forest Regression** algorithm is the best model."
   ]
  },
  {
   "cell_type": "code",
   "execution_count": null,
   "id": "3c30c3a7",
   "metadata": {},
   "outputs": [],
   "source": []
  }
 ],
 "metadata": {
  "kernelspec": {
   "display_name": "Python 3 (ipykernel)",
   "language": "python",
   "name": "python3"
  },
  "language_info": {
   "codemirror_mode": {
    "name": "ipython",
    "version": 3
   },
   "file_extension": ".py",
   "mimetype": "text/x-python",
   "name": "python",
   "nbconvert_exporter": "python",
   "pygments_lexer": "ipython3",
   "version": "3.10.9"
  }
 },
 "nbformat": 4,
 "nbformat_minor": 5
}
